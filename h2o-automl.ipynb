{
 "cells": [
  {
   "cell_type": "markdown",
   "metadata": {},
   "source": [
    "<h2 align=\"center\">Automatic Machine Learning with H2O AutoML</h2>"
   ]
  },
  {
   "cell_type": "markdown",
   "metadata": {},
   "source": [
    "### Task 2: Importing Packages"
   ]
  },
  {
   "cell_type": "code",
   "execution_count": 2,
   "metadata": {},
   "outputs": [],
   "source": [
    "import pandas as pd\n",
    "pd.options.display.max_rows = 999\n",
    "import numpy as np\n",
    "import matplotlib.pyplot as plt"
   ]
  },
  {
   "cell_type": "markdown",
   "metadata": {},
   "source": [
    " "
   ]
  },
  {
   "cell_type": "markdown",
   "metadata": {},
   "source": [
    "### Task 3: Loading and Exploring the Data"
   ]
  },
  {
   "cell_type": "code",
   "execution_count": 3,
   "metadata": {},
   "outputs": [],
   "source": [
    "xls = pd.ExcelFile('data/bank_term_deposit_marketing_analysis.xlsx')"
   ]
  },
  {
   "cell_type": "code",
   "execution_count": 4,
   "metadata": {},
   "outputs": [
    {
     "data": {
      "text/plain": [
       "['PROCEDURE',\n",
       " 'DATA DESCRIPTION',\n",
       " 'Step 1 - Collect Information',\n",
       " 'CLIENT_INFO',\n",
       " 'LOAN_HISTORY',\n",
       " 'MARKETING HISTORY',\n",
       " 'SUBSCRIPTION HISTORY',\n",
       " 'Step 2 - Merge Information',\n",
       " 'CLIENT_MERGE',\n",
       " 'Step 3 - Marketing Analysis',\n",
       " 'DAILY RANGE',\n",
       " 'JOB ANALYSIS',\n",
       " 'Sheet3']"
      ]
     },
     "execution_count": 4,
     "metadata": {},
     "output_type": "execute_result"
    }
   ],
   "source": [
    "xls.sheet_names"
   ]
  },
  {
   "cell_type": "code",
   "execution_count": 5,
   "metadata": {},
   "outputs": [],
   "source": [
    "client_info = pd.read_excel(xls, 'CLIENT_INFO')\n",
    "loan_history = pd.read_excel(xls, 'LOAN_HISTORY')\n",
    "marketing_history = pd.read_excel(xls, 'MARKETING HISTORY')\n",
    "subscription_history = pd.read_excel(xls, 'SUBSCRIPTION HISTORY')"
   ]
  },
  {
   "cell_type": "code",
   "execution_count": 6,
   "metadata": {},
   "outputs": [
    {
     "data": {
      "text/html": [
       "<div>\n",
       "<style scoped>\n",
       "    .dataframe tbody tr th:only-of-type {\n",
       "        vertical-align: middle;\n",
       "    }\n",
       "\n",
       "    .dataframe tbody tr th {\n",
       "        vertical-align: top;\n",
       "    }\n",
       "\n",
       "    .dataframe thead th {\n",
       "        text-align: right;\n",
       "    }\n",
       "</style>\n",
       "<table border=\"1\" class=\"dataframe\">\n",
       "  <thead>\n",
       "    <tr style=\"text-align: right;\">\n",
       "      <th></th>\n",
       "      <th>ID</th>\n",
       "      <th>AGE</th>\n",
       "      <th>JOB</th>\n",
       "      <th>MARITAL</th>\n",
       "      <th>EDUCATION</th>\n",
       "    </tr>\n",
       "  </thead>\n",
       "  <tbody>\n",
       "    <tr>\n",
       "      <th>0</th>\n",
       "      <td>2836</td>\n",
       "      <td>58</td>\n",
       "      <td>management</td>\n",
       "      <td>married</td>\n",
       "      <td>tertiary</td>\n",
       "    </tr>\n",
       "    <tr>\n",
       "      <th>1</th>\n",
       "      <td>2837</td>\n",
       "      <td>44</td>\n",
       "      <td>technician</td>\n",
       "      <td>single</td>\n",
       "      <td>secondary</td>\n",
       "    </tr>\n",
       "    <tr>\n",
       "      <th>2</th>\n",
       "      <td>2838</td>\n",
       "      <td>33</td>\n",
       "      <td>entrepreneur</td>\n",
       "      <td>married</td>\n",
       "      <td>secondary</td>\n",
       "    </tr>\n",
       "    <tr>\n",
       "      <th>3</th>\n",
       "      <td>2839</td>\n",
       "      <td>47</td>\n",
       "      <td>blue-collar</td>\n",
       "      <td>married</td>\n",
       "      <td>unknown</td>\n",
       "    </tr>\n",
       "    <tr>\n",
       "      <th>4</th>\n",
       "      <td>2840</td>\n",
       "      <td>33</td>\n",
       "      <td>unknown</td>\n",
       "      <td>single</td>\n",
       "      <td>unknown</td>\n",
       "    </tr>\n",
       "  </tbody>\n",
       "</table>\n",
       "</div>"
      ],
      "text/plain": [
       "     ID  AGE           JOB  MARITAL  EDUCATION\n",
       "0  2836   58    management  married   tertiary\n",
       "1  2837   44    technician   single  secondary\n",
       "2  2838   33  entrepreneur  married  secondary\n",
       "3  2839   47   blue-collar  married    unknown\n",
       "4  2840   33       unknown   single    unknown"
      ]
     },
     "execution_count": 6,
     "metadata": {},
     "output_type": "execute_result"
    }
   ],
   "source": [
    "client_info.head()"
   ]
  },
  {
   "cell_type": "code",
   "execution_count": 7,
   "metadata": {},
   "outputs": [
    {
     "data": {
      "text/html": [
       "<div>\n",
       "<style scoped>\n",
       "    .dataframe tbody tr th:only-of-type {\n",
       "        vertical-align: middle;\n",
       "    }\n",
       "\n",
       "    .dataframe tbody tr th {\n",
       "        vertical-align: top;\n",
       "    }\n",
       "\n",
       "    .dataframe thead th {\n",
       "        text-align: right;\n",
       "    }\n",
       "</style>\n",
       "<table border=\"1\" class=\"dataframe\">\n",
       "  <thead>\n",
       "    <tr style=\"text-align: right;\">\n",
       "      <th></th>\n",
       "      <th>ID</th>\n",
       "      <th>DEFAULT</th>\n",
       "      <th>BALANCE</th>\n",
       "      <th>HOUSING</th>\n",
       "      <th>LOAN</th>\n",
       "    </tr>\n",
       "  </thead>\n",
       "  <tbody>\n",
       "    <tr>\n",
       "      <th>0</th>\n",
       "      <td>2836</td>\n",
       "      <td>no</td>\n",
       "      <td>2143</td>\n",
       "      <td>yes</td>\n",
       "      <td>no</td>\n",
       "    </tr>\n",
       "    <tr>\n",
       "      <th>1</th>\n",
       "      <td>2837</td>\n",
       "      <td>no</td>\n",
       "      <td>29</td>\n",
       "      <td>yes</td>\n",
       "      <td>no</td>\n",
       "    </tr>\n",
       "    <tr>\n",
       "      <th>2</th>\n",
       "      <td>2838</td>\n",
       "      <td>no</td>\n",
       "      <td>2</td>\n",
       "      <td>yes</td>\n",
       "      <td>yes</td>\n",
       "    </tr>\n",
       "    <tr>\n",
       "      <th>3</th>\n",
       "      <td>2839</td>\n",
       "      <td>no</td>\n",
       "      <td>1506</td>\n",
       "      <td>yes</td>\n",
       "      <td>no</td>\n",
       "    </tr>\n",
       "    <tr>\n",
       "      <th>4</th>\n",
       "      <td>2840</td>\n",
       "      <td>no</td>\n",
       "      <td>1</td>\n",
       "      <td>no</td>\n",
       "      <td>no</td>\n",
       "    </tr>\n",
       "  </tbody>\n",
       "</table>\n",
       "</div>"
      ],
      "text/plain": [
       "     ID DEFAULT  BALANCE HOUSING LOAN\n",
       "0  2836      no     2143     yes   no\n",
       "1  2837      no       29     yes   no\n",
       "2  2838      no        2     yes  yes\n",
       "3  2839      no     1506     yes   no\n",
       "4  2840      no        1      no   no"
      ]
     },
     "execution_count": 7,
     "metadata": {},
     "output_type": "execute_result"
    }
   ],
   "source": [
    "loan_history.head()"
   ]
  },
  {
   "cell_type": "code",
   "execution_count": 8,
   "metadata": {},
   "outputs": [
    {
     "data": {
      "text/html": [
       "<div>\n",
       "<style scoped>\n",
       "    .dataframe tbody tr th:only-of-type {\n",
       "        vertical-align: middle;\n",
       "    }\n",
       "\n",
       "    .dataframe tbody tr th {\n",
       "        vertical-align: top;\n",
       "    }\n",
       "\n",
       "    .dataframe thead th {\n",
       "        text-align: right;\n",
       "    }\n",
       "</style>\n",
       "<table border=\"1\" class=\"dataframe\">\n",
       "  <thead>\n",
       "    <tr style=\"text-align: right;\">\n",
       "      <th></th>\n",
       "      <th>ID</th>\n",
       "      <th>CONTACT</th>\n",
       "      <th>DAY</th>\n",
       "      <th>MONTH</th>\n",
       "      <th>DURATION</th>\n",
       "      <th>CAMPAIGN</th>\n",
       "      <th>PDAYS</th>\n",
       "      <th>PREVIOUS</th>\n",
       "      <th>POUTCOME</th>\n",
       "    </tr>\n",
       "  </thead>\n",
       "  <tbody>\n",
       "    <tr>\n",
       "      <th>0</th>\n",
       "      <td>2836</td>\n",
       "      <td>unknown</td>\n",
       "      <td>5</td>\n",
       "      <td>may</td>\n",
       "      <td>261</td>\n",
       "      <td>1</td>\n",
       "      <td>-1</td>\n",
       "      <td>0</td>\n",
       "      <td>unknown</td>\n",
       "    </tr>\n",
       "    <tr>\n",
       "      <th>1</th>\n",
       "      <td>2837</td>\n",
       "      <td>unknown</td>\n",
       "      <td>5</td>\n",
       "      <td>may</td>\n",
       "      <td>151</td>\n",
       "      <td>1</td>\n",
       "      <td>-1</td>\n",
       "      <td>0</td>\n",
       "      <td>unknown</td>\n",
       "    </tr>\n",
       "    <tr>\n",
       "      <th>2</th>\n",
       "      <td>2838</td>\n",
       "      <td>unknown</td>\n",
       "      <td>5</td>\n",
       "      <td>may</td>\n",
       "      <td>76</td>\n",
       "      <td>1</td>\n",
       "      <td>-1</td>\n",
       "      <td>0</td>\n",
       "      <td>unknown</td>\n",
       "    </tr>\n",
       "    <tr>\n",
       "      <th>3</th>\n",
       "      <td>2839</td>\n",
       "      <td>unknown</td>\n",
       "      <td>5</td>\n",
       "      <td>may</td>\n",
       "      <td>92</td>\n",
       "      <td>1</td>\n",
       "      <td>-1</td>\n",
       "      <td>0</td>\n",
       "      <td>unknown</td>\n",
       "    </tr>\n",
       "    <tr>\n",
       "      <th>4</th>\n",
       "      <td>2840</td>\n",
       "      <td>unknown</td>\n",
       "      <td>5</td>\n",
       "      <td>may</td>\n",
       "      <td>198</td>\n",
       "      <td>1</td>\n",
       "      <td>-1</td>\n",
       "      <td>0</td>\n",
       "      <td>unknown</td>\n",
       "    </tr>\n",
       "  </tbody>\n",
       "</table>\n",
       "</div>"
      ],
      "text/plain": [
       "     ID  CONTACT  DAY MONTH  DURATION  CAMPAIGN  PDAYS  PREVIOUS POUTCOME\n",
       "0  2836  unknown    5   may       261         1     -1         0  unknown\n",
       "1  2837  unknown    5   may       151         1     -1         0  unknown\n",
       "2  2838  unknown    5   may        76         1     -1         0  unknown\n",
       "3  2839  unknown    5   may        92         1     -1         0  unknown\n",
       "4  2840  unknown    5   may       198         1     -1         0  unknown"
      ]
     },
     "execution_count": 8,
     "metadata": {},
     "output_type": "execute_result"
    }
   ],
   "source": [
    "marketing_history.head()"
   ]
  },
  {
   "cell_type": "code",
   "execution_count": 9,
   "metadata": {},
   "outputs": [
    {
     "data": {
      "text/html": [
       "<div>\n",
       "<style scoped>\n",
       "    .dataframe tbody tr th:only-of-type {\n",
       "        vertical-align: middle;\n",
       "    }\n",
       "\n",
       "    .dataframe tbody tr th {\n",
       "        vertical-align: top;\n",
       "    }\n",
       "\n",
       "    .dataframe thead th {\n",
       "        text-align: right;\n",
       "    }\n",
       "</style>\n",
       "<table border=\"1\" class=\"dataframe\">\n",
       "  <thead>\n",
       "    <tr style=\"text-align: right;\">\n",
       "      <th></th>\n",
       "      <th>ID</th>\n",
       "      <th>TERM_DEPOSIT</th>\n",
       "    </tr>\n",
       "  </thead>\n",
       "  <tbody>\n",
       "    <tr>\n",
       "      <th>0</th>\n",
       "      <td>2836</td>\n",
       "      <td>no</td>\n",
       "    </tr>\n",
       "    <tr>\n",
       "      <th>1</th>\n",
       "      <td>2837</td>\n",
       "      <td>no</td>\n",
       "    </tr>\n",
       "    <tr>\n",
       "      <th>2</th>\n",
       "      <td>2838</td>\n",
       "      <td>no</td>\n",
       "    </tr>\n",
       "    <tr>\n",
       "      <th>3</th>\n",
       "      <td>2839</td>\n",
       "      <td>no</td>\n",
       "    </tr>\n",
       "    <tr>\n",
       "      <th>4</th>\n",
       "      <td>2840</td>\n",
       "      <td>no</td>\n",
       "    </tr>\n",
       "  </tbody>\n",
       "</table>\n",
       "</div>"
      ],
      "text/plain": [
       "     ID TERM_DEPOSIT\n",
       "0  2836           no\n",
       "1  2837           no\n",
       "2  2838           no\n",
       "3  2839           no\n",
       "4  2840           no"
      ]
     },
     "execution_count": 9,
     "metadata": {},
     "output_type": "execute_result"
    }
   ],
   "source": [
    "subscription_history.head()"
   ]
  },
  {
   "cell_type": "code",
   "execution_count": 10,
   "metadata": {},
   "outputs": [
    {
     "data": {
      "text/html": [
       "<div>\n",
       "<style scoped>\n",
       "    .dataframe tbody tr th:only-of-type {\n",
       "        vertical-align: middle;\n",
       "    }\n",
       "\n",
       "    .dataframe tbody tr th {\n",
       "        vertical-align: top;\n",
       "    }\n",
       "\n",
       "    .dataframe thead th {\n",
       "        text-align: right;\n",
       "    }\n",
       "</style>\n",
       "<table border=\"1\" class=\"dataframe\">\n",
       "  <thead>\n",
       "    <tr style=\"text-align: right;\">\n",
       "      <th></th>\n",
       "      <th>ID</th>\n",
       "      <th>AGE</th>\n",
       "      <th>JOB</th>\n",
       "      <th>MARITAL</th>\n",
       "      <th>EDUCATION</th>\n",
       "      <th>DEFAULT</th>\n",
       "      <th>BALANCE</th>\n",
       "      <th>HOUSING</th>\n",
       "      <th>LOAN</th>\n",
       "      <th>CONTACT</th>\n",
       "      <th>DAY</th>\n",
       "      <th>MONTH</th>\n",
       "      <th>DURATION</th>\n",
       "      <th>CAMPAIGN</th>\n",
       "      <th>PDAYS</th>\n",
       "      <th>PREVIOUS</th>\n",
       "      <th>POUTCOME</th>\n",
       "      <th>TERM_DEPOSIT</th>\n",
       "    </tr>\n",
       "  </thead>\n",
       "  <tbody>\n",
       "    <tr>\n",
       "      <th>0</th>\n",
       "      <td>2836</td>\n",
       "      <td>58</td>\n",
       "      <td>management</td>\n",
       "      <td>married</td>\n",
       "      <td>tertiary</td>\n",
       "      <td>no</td>\n",
       "      <td>2143</td>\n",
       "      <td>yes</td>\n",
       "      <td>no</td>\n",
       "      <td>unknown</td>\n",
       "      <td>5</td>\n",
       "      <td>may</td>\n",
       "      <td>261</td>\n",
       "      <td>1</td>\n",
       "      <td>-1</td>\n",
       "      <td>0</td>\n",
       "      <td>unknown</td>\n",
       "      <td>no</td>\n",
       "    </tr>\n",
       "    <tr>\n",
       "      <th>1</th>\n",
       "      <td>2837</td>\n",
       "      <td>44</td>\n",
       "      <td>technician</td>\n",
       "      <td>single</td>\n",
       "      <td>secondary</td>\n",
       "      <td>no</td>\n",
       "      <td>29</td>\n",
       "      <td>yes</td>\n",
       "      <td>no</td>\n",
       "      <td>unknown</td>\n",
       "      <td>5</td>\n",
       "      <td>may</td>\n",
       "      <td>151</td>\n",
       "      <td>1</td>\n",
       "      <td>-1</td>\n",
       "      <td>0</td>\n",
       "      <td>unknown</td>\n",
       "      <td>no</td>\n",
       "    </tr>\n",
       "    <tr>\n",
       "      <th>2</th>\n",
       "      <td>2838</td>\n",
       "      <td>33</td>\n",
       "      <td>entrepreneur</td>\n",
       "      <td>married</td>\n",
       "      <td>secondary</td>\n",
       "      <td>no</td>\n",
       "      <td>2</td>\n",
       "      <td>yes</td>\n",
       "      <td>yes</td>\n",
       "      <td>unknown</td>\n",
       "      <td>5</td>\n",
       "      <td>may</td>\n",
       "      <td>76</td>\n",
       "      <td>1</td>\n",
       "      <td>-1</td>\n",
       "      <td>0</td>\n",
       "      <td>unknown</td>\n",
       "      <td>no</td>\n",
       "    </tr>\n",
       "    <tr>\n",
       "      <th>3</th>\n",
       "      <td>2839</td>\n",
       "      <td>47</td>\n",
       "      <td>blue-collar</td>\n",
       "      <td>married</td>\n",
       "      <td>unknown</td>\n",
       "      <td>no</td>\n",
       "      <td>1506</td>\n",
       "      <td>yes</td>\n",
       "      <td>no</td>\n",
       "      <td>unknown</td>\n",
       "      <td>5</td>\n",
       "      <td>may</td>\n",
       "      <td>92</td>\n",
       "      <td>1</td>\n",
       "      <td>-1</td>\n",
       "      <td>0</td>\n",
       "      <td>unknown</td>\n",
       "      <td>no</td>\n",
       "    </tr>\n",
       "    <tr>\n",
       "      <th>4</th>\n",
       "      <td>2840</td>\n",
       "      <td>33</td>\n",
       "      <td>unknown</td>\n",
       "      <td>single</td>\n",
       "      <td>unknown</td>\n",
       "      <td>no</td>\n",
       "      <td>1</td>\n",
       "      <td>no</td>\n",
       "      <td>no</td>\n",
       "      <td>unknown</td>\n",
       "      <td>5</td>\n",
       "      <td>may</td>\n",
       "      <td>198</td>\n",
       "      <td>1</td>\n",
       "      <td>-1</td>\n",
       "      <td>0</td>\n",
       "      <td>unknown</td>\n",
       "      <td>no</td>\n",
       "    </tr>\n",
       "  </tbody>\n",
       "</table>\n",
       "</div>"
      ],
      "text/plain": [
       "     ID  AGE           JOB  MARITAL  EDUCATION DEFAULT  BALANCE HOUSING LOAN  \\\n",
       "0  2836   58    management  married   tertiary      no     2143     yes   no   \n",
       "1  2837   44    technician   single  secondary      no       29     yes   no   \n",
       "2  2838   33  entrepreneur  married  secondary      no        2     yes  yes   \n",
       "3  2839   47   blue-collar  married    unknown      no     1506     yes   no   \n",
       "4  2840   33       unknown   single    unknown      no        1      no   no   \n",
       "\n",
       "   CONTACT  DAY MONTH  DURATION  CAMPAIGN  PDAYS  PREVIOUS POUTCOME  \\\n",
       "0  unknown    5   may       261         1     -1         0  unknown   \n",
       "1  unknown    5   may       151         1     -1         0  unknown   \n",
       "2  unknown    5   may        76         1     -1         0  unknown   \n",
       "3  unknown    5   may        92         1     -1         0  unknown   \n",
       "4  unknown    5   may       198         1     -1         0  unknown   \n",
       "\n",
       "  TERM_DEPOSIT  \n",
       "0           no  \n",
       "1           no  \n",
       "2           no  \n",
       "3           no  \n",
       "4           no  "
      ]
     },
     "execution_count": 10,
     "metadata": {},
     "output_type": "execute_result"
    }
   ],
   "source": [
    "df = pd.merge(client_info, loan_history, on=['ID'])\n",
    "df = pd.merge(df, marketing_history, on=['ID'])\n",
    "df = pd.merge(df, subscription_history, on=['ID'])\n",
    "df.head()"
   ]
  },
  {
   "cell_type": "code",
   "execution_count": 11,
   "metadata": {},
   "outputs": [],
   "source": [
    "df = df.drop(['ID'], axis=1)"
   ]
  },
  {
   "cell_type": "markdown",
   "metadata": {},
   "source": [
    " "
   ]
  },
  {
   "cell_type": "markdown",
   "metadata": {},
   "source": [
    "### Task 4: Data Prep & Start H2O"
   ]
  },
  {
   "cell_type": "code",
   "execution_count": 33,
   "metadata": {},
   "outputs": [
    {
     "name": "stdout",
     "output_type": "stream",
     "text": [
      "Checking whether there is an H2O instance running at http://localhost:54321 . connected.\n",
      "Warning: Your H2O cluster version is too old (6 months and 7 days)! Please download and install the latest version from http://h2o.ai/download/\n"
     ]
    },
    {
     "data": {
      "text/html": [
       "<div style=\"overflow:auto\"><table style=\"width:50%\"><tr><td>H2O_cluster_uptime:</td>\n",
       "<td>30 mins 08 secs</td></tr>\n",
       "<tr><td>H2O_cluster_timezone:</td>\n",
       "<td>Etc/UTC</td></tr>\n",
       "<tr><td>H2O_data_parsing_timezone:</td>\n",
       "<td>UTC</td></tr>\n",
       "<tr><td>H2O_cluster_version:</td>\n",
       "<td>3.30.0.3</td></tr>\n",
       "<tr><td>H2O_cluster_version_age:</td>\n",
       "<td>6 months and 7 days !!!</td></tr>\n",
       "<tr><td>H2O_cluster_name:</td>\n",
       "<td>H2O_from_python_rhyme_whq9my</td></tr>\n",
       "<tr><td>H2O_cluster_total_nodes:</td>\n",
       "<td>1</td></tr>\n",
       "<tr><td>H2O_cluster_free_memory:</td>\n",
       "<td>1.795 Gb</td></tr>\n",
       "<tr><td>H2O_cluster_total_cores:</td>\n",
       "<td>2</td></tr>\n",
       "<tr><td>H2O_cluster_allowed_cores:</td>\n",
       "<td>2</td></tr>\n",
       "<tr><td>H2O_cluster_status:</td>\n",
       "<td>locked, healthy</td></tr>\n",
       "<tr><td>H2O_connection_url:</td>\n",
       "<td>http://localhost:54321</td></tr>\n",
       "<tr><td>H2O_connection_proxy:</td>\n",
       "<td>{\"http\": null, \"https\": null}</td></tr>\n",
       "<tr><td>H2O_internal_security:</td>\n",
       "<td>False</td></tr>\n",
       "<tr><td>H2O_API_Extensions:</td>\n",
       "<td>Amazon S3, XGBoost, Algos, AutoML, Core V3, TargetEncoder, Core V4</td></tr>\n",
       "<tr><td>Python_version:</td>\n",
       "<td>3.6.9 final</td></tr></table></div>"
      ],
      "text/plain": [
       "--------------------------  ------------------------------------------------------------------\n",
       "H2O_cluster_uptime:         30 mins 08 secs\n",
       "H2O_cluster_timezone:       Etc/UTC\n",
       "H2O_data_parsing_timezone:  UTC\n",
       "H2O_cluster_version:        3.30.0.3\n",
       "H2O_cluster_version_age:    6 months and 7 days !!!\n",
       "H2O_cluster_name:           H2O_from_python_rhyme_whq9my\n",
       "H2O_cluster_total_nodes:    1\n",
       "H2O_cluster_free_memory:    1.795 Gb\n",
       "H2O_cluster_total_cores:    2\n",
       "H2O_cluster_allowed_cores:  2\n",
       "H2O_cluster_status:         locked, healthy\n",
       "H2O_connection_url:         http://localhost:54321\n",
       "H2O_connection_proxy:       {\"http\": null, \"https\": null}\n",
       "H2O_internal_security:      False\n",
       "H2O_API_Extensions:         Amazon S3, XGBoost, Algos, AutoML, Core V3, TargetEncoder, Core V4\n",
       "Python_version:             3.6.9 final\n",
       "--------------------------  ------------------------------------------------------------------"
      ]
     },
     "metadata": {},
     "output_type": "display_data"
    }
   ],
   "source": [
    "import h2o\n",
    "h2o.init()"
   ]
  },
  {
   "cell_type": "code",
   "execution_count": 13,
   "metadata": {},
   "outputs": [
    {
     "name": "stdout",
     "output_type": "stream",
     "text": [
      "Parse progress: |█████████████████████████████████████████████████████████| 100%\n"
     ]
    }
   ],
   "source": [
    "h2o_df = h2o.H2OFrame(df)"
   ]
  },
  {
   "cell_type": "code",
   "execution_count": 14,
   "metadata": {},
   "outputs": [
    {
     "name": "stdout",
     "output_type": "stream",
     "text": [
      "Rows:45211\n",
      "Cols:17\n",
      "\n",
      "\n"
     ]
    },
    {
     "data": {
      "text/html": [
       "<table>\n",
       "<thead>\n",
       "<tr><th>       </th><th>AGE               </th><th>JOB         </th><th>MARITAL  </th><th>EDUCATION  </th><th>DEFAULT  </th><th>BALANCE           </th><th>HOUSING  </th><th>LOAN  </th><th>CONTACT  </th><th>DAY               </th><th>MONTH  </th><th>DURATION          </th><th>CAMPAIGN          </th><th>PDAYS             </th><th>PREVIOUS          </th><th>POUTCOME  </th><th>TERM_DEPOSIT  </th></tr>\n",
       "</thead>\n",
       "<tbody>\n",
       "<tr><td>type   </td><td>int               </td><td>enum        </td><td>enum     </td><td>enum       </td><td>enum     </td><td>int               </td><td>enum     </td><td>enum  </td><td>enum     </td><td>int               </td><td>enum   </td><td>int               </td><td>int               </td><td>int               </td><td>int               </td><td>enum      </td><td>enum          </td></tr>\n",
       "<tr><td>mins   </td><td>18.0              </td><td>            </td><td>         </td><td>           </td><td>         </td><td>-8019.0           </td><td>         </td><td>      </td><td>         </td><td>1.0               </td><td>       </td><td>0.0               </td><td>1.0               </td><td>-1.0              </td><td>0.0               </td><td>          </td><td>              </td></tr>\n",
       "<tr><td>mean   </td><td>40.93621021432807 </td><td>            </td><td>         </td><td>           </td><td>         </td><td>1362.2720576850802</td><td>         </td><td>      </td><td>         </td><td>15.806418791886923</td><td>       </td><td>258.16307978146915</td><td>2.7638406582468997</td><td>40.19782796222158 </td><td>0.5803233726305561</td><td>          </td><td>              </td></tr>\n",
       "<tr><td>maxs   </td><td>95.0              </td><td>            </td><td>         </td><td>           </td><td>         </td><td>102127.0          </td><td>         </td><td>      </td><td>         </td><td>31.0              </td><td>       </td><td>4918.0            </td><td>63.0              </td><td>871.0             </td><td>275.0             </td><td>          </td><td>              </td></tr>\n",
       "<tr><td>sigma  </td><td>10.618762040975398</td><td>            </td><td>         </td><td>           </td><td>         </td><td>3044.7658291685216</td><td>         </td><td>      </td><td>         </td><td>8.32247615304459  </td><td>       </td><td>257.52781226517124</td><td>3.0980208832791805</td><td>100.12874599059822</td><td>2.303441044931215 </td><td>          </td><td>              </td></tr>\n",
       "<tr><td>zeros  </td><td>0                 </td><td>            </td><td>         </td><td>           </td><td>         </td><td>3514              </td><td>         </td><td>      </td><td>         </td><td>0                 </td><td>       </td><td>3                 </td><td>0                 </td><td>0                 </td><td>36954             </td><td>          </td><td>              </td></tr>\n",
       "<tr><td>missing</td><td>0                 </td><td>0           </td><td>0        </td><td>0          </td><td>0        </td><td>0                 </td><td>0        </td><td>0     </td><td>0        </td><td>0                 </td><td>0      </td><td>0                 </td><td>0                 </td><td>0                 </td><td>0                 </td><td>0         </td><td>0             </td></tr>\n",
       "<tr><td>0      </td><td>58.0              </td><td>management  </td><td>married  </td><td>tertiary   </td><td>no       </td><td>2143.0            </td><td>yes      </td><td>no    </td><td>unknown  </td><td>5.0               </td><td>may    </td><td>261.0             </td><td>1.0               </td><td>-1.0              </td><td>0.0               </td><td>unknown   </td><td>no            </td></tr>\n",
       "<tr><td>1      </td><td>44.0              </td><td>technician  </td><td>single   </td><td>secondary  </td><td>no       </td><td>29.0              </td><td>yes      </td><td>no    </td><td>unknown  </td><td>5.0               </td><td>may    </td><td>151.0             </td><td>1.0               </td><td>-1.0              </td><td>0.0               </td><td>unknown   </td><td>no            </td></tr>\n",
       "<tr><td>2      </td><td>33.0              </td><td>entrepreneur</td><td>married  </td><td>secondary  </td><td>no       </td><td>2.0               </td><td>yes      </td><td>yes   </td><td>unknown  </td><td>5.0               </td><td>may    </td><td>76.0              </td><td>1.0               </td><td>-1.0              </td><td>0.0               </td><td>unknown   </td><td>no            </td></tr>\n",
       "<tr><td>3      </td><td>47.0              </td><td>blue-collar </td><td>married  </td><td>unknown    </td><td>no       </td><td>1506.0            </td><td>yes      </td><td>no    </td><td>unknown  </td><td>5.0               </td><td>may    </td><td>92.0              </td><td>1.0               </td><td>-1.0              </td><td>0.0               </td><td>unknown   </td><td>no            </td></tr>\n",
       "<tr><td>4      </td><td>33.0              </td><td>unknown     </td><td>single   </td><td>unknown    </td><td>no       </td><td>1.0               </td><td>no       </td><td>no    </td><td>unknown  </td><td>5.0               </td><td>may    </td><td>198.0             </td><td>1.0               </td><td>-1.0              </td><td>0.0               </td><td>unknown   </td><td>no            </td></tr>\n",
       "<tr><td>5      </td><td>35.0              </td><td>management  </td><td>married  </td><td>tertiary   </td><td>no       </td><td>231.0             </td><td>yes      </td><td>no    </td><td>unknown  </td><td>5.0               </td><td>may    </td><td>139.0             </td><td>1.0               </td><td>-1.0              </td><td>0.0               </td><td>unknown   </td><td>no            </td></tr>\n",
       "<tr><td>6      </td><td>28.0              </td><td>management  </td><td>single   </td><td>tertiary   </td><td>no       </td><td>447.0             </td><td>yes      </td><td>yes   </td><td>unknown  </td><td>5.0               </td><td>may    </td><td>217.0             </td><td>1.0               </td><td>-1.0              </td><td>0.0               </td><td>unknown   </td><td>no            </td></tr>\n",
       "<tr><td>7      </td><td>42.0              </td><td>entrepreneur</td><td>divorced </td><td>tertiary   </td><td>yes      </td><td>2.0               </td><td>yes      </td><td>no    </td><td>unknown  </td><td>5.0               </td><td>may    </td><td>380.0             </td><td>1.0               </td><td>-1.0              </td><td>0.0               </td><td>unknown   </td><td>no            </td></tr>\n",
       "<tr><td>8      </td><td>58.0              </td><td>retired     </td><td>married  </td><td>primary    </td><td>no       </td><td>121.0             </td><td>yes      </td><td>no    </td><td>unknown  </td><td>5.0               </td><td>may    </td><td>50.0              </td><td>1.0               </td><td>-1.0              </td><td>0.0               </td><td>unknown   </td><td>no            </td></tr>\n",
       "<tr><td>9      </td><td>43.0              </td><td>technician  </td><td>single   </td><td>secondary  </td><td>no       </td><td>593.0             </td><td>yes      </td><td>no    </td><td>unknown  </td><td>5.0               </td><td>may    </td><td>55.0              </td><td>1.0               </td><td>-1.0              </td><td>0.0               </td><td>unknown   </td><td>no            </td></tr>\n",
       "</tbody>\n",
       "</table>"
      ]
     },
     "metadata": {},
     "output_type": "display_data"
    }
   ],
   "source": [
    "h2o_df.describe()"
   ]
  },
  {
   "cell_type": "code",
   "execution_count": 15,
   "metadata": {},
   "outputs": [],
   "source": [
    "train, test = h2o_df.split_frame(ratios=[.75])\n",
    "x = train.columns\n",
    "y = 'TERM_DEPOSIT'\n",
    "x.remove(y)"
   ]
  },
  {
   "cell_type": "markdown",
   "metadata": {},
   "source": [
    "### Task 5: Run H2O AutoML"
   ]
  },
  {
   "cell_type": "code",
   "execution_count": 28,
   "metadata": {},
   "outputs": [],
   "source": [
    "from h2o.automl import H2OAutoML"
   ]
  },
  {
   "cell_type": "code",
   "execution_count": 29,
   "metadata": {},
   "outputs": [
    {
     "data": {
      "text/plain": [
       "no     39922\n",
       "yes     5289\n",
       "Name: TERM_DEPOSIT, dtype: int64"
      ]
     },
     "execution_count": 29,
     "metadata": {},
     "output_type": "execute_result"
    }
   ],
   "source": [
    "df.TERM_DEPOSIT.value_counts()"
   ]
  },
  {
   "cell_type": "code",
   "execution_count": 30,
   "metadata": {},
   "outputs": [
    {
     "name": "stdout",
     "output_type": "stream",
     "text": [
      "AutoML progress: |\n",
      "18:14:21.672: New models will be added to existing leaderboard Final@@TERM_DEPOSIT (leaderboard frame=null) with already 28 models.\n",
      "\n",
      "█████████████████████████████████████████████████████\n",
      "18:23:54.562: StackedEnsemble_BestOfFamily_AutoML_20201121_181421 [StackedEnsemble best (built using top model from each algorithm type)] failed: water.exceptions.H2OIllegalArgumentException: Failed to find the xval predictions frame. . .  Looks like keep_cross_validation_predictions wasn't set when building the models, or the frame was deleted.\n",
      "\n",
      "\n",
      "18:23:55.573: StackedEnsemble_AllModels_AutoML_20201121_181421 [StackedEnsemble all (built using all AutoML models)] failed: water.exceptions.H2OIllegalArgumentException: Failed to find the xval predictions frame. . .  Looks like keep_cross_validation_predictions wasn't set when building the models, or the frame was deleted.\n",
      "\n",
      "███| 100%\n",
      "CPU times: user 1min 10s, sys: 1.15 s, total: 1min 11s\n",
      "Wall time: 9min 35s\n"
     ]
    }
   ],
   "source": [
    "aml = H2OAutoML(max_runtime_secs=600,\n",
    "               balance_classes=True,\n",
    "                stopping_metric='logloss' ,\n",
    "               project_name='Final',\n",
    "               seed=1)\n",
    "%time aml.train(x=x, y=y, training_frame=train)"
   ]
  },
  {
   "cell_type": "markdown",
   "metadata": {},
   "source": [
    " "
   ]
  },
  {
   "cell_type": "markdown",
   "metadata": {},
   "source": [
    "### Task 6: AutoML Leaderboard and Ensemble Exploration"
   ]
  },
  {
   "cell_type": "code",
   "execution_count": 23,
   "metadata": {},
   "outputs": [
    {
     "data": {
      "text/html": [
       "<table>\n",
       "<thead>\n",
       "<tr><th>model_id                                           </th><th style=\"text-align: right;\">     auc</th><th style=\"text-align: right;\">  logloss</th><th style=\"text-align: right;\">   aucpr</th><th style=\"text-align: right;\">  mean_per_class_error</th><th style=\"text-align: right;\">    rmse</th><th style=\"text-align: right;\">      mse</th></tr>\n",
       "</thead>\n",
       "<tbody>\n",
       "<tr><td>XGBoost_grid__1_AutoML_20201121_175520_model_2     </td><td style=\"text-align: right;\">0.934792</td><td style=\"text-align: right;\"> 0.199725</td><td style=\"text-align: right;\">0.6208  </td><td style=\"text-align: right;\">              0.153067</td><td style=\"text-align: right;\">0.250729</td><td style=\"text-align: right;\">0.0628651</td></tr>\n",
       "<tr><td>StackedEnsemble_AllModels_AutoML_20201121_175520   </td><td style=\"text-align: right;\">0.932008</td><td style=\"text-align: right;\"> 0.213095</td><td style=\"text-align: right;\">0.617723</td><td style=\"text-align: right;\">              0.16631 </td><td style=\"text-align: right;\">0.254037</td><td style=\"text-align: right;\">0.0645347</td></tr>\n",
       "<tr><td>XGBoost_3_AutoML_20201121_175520                   </td><td style=\"text-align: right;\">0.93199 </td><td style=\"text-align: right;\"> 0.202979</td><td style=\"text-align: right;\">0.620361</td><td style=\"text-align: right;\">              0.175289</td><td style=\"text-align: right;\">0.251391</td><td style=\"text-align: right;\">0.0631975</td></tr>\n",
       "<tr><td>GBM_grid__1_AutoML_20201121_175520_model_1         </td><td style=\"text-align: right;\">0.931931</td><td style=\"text-align: right;\"> 0.202448</td><td style=\"text-align: right;\">0.612292</td><td style=\"text-align: right;\">              0.171305</td><td style=\"text-align: right;\">0.252574</td><td style=\"text-align: right;\">0.0637938</td></tr>\n",
       "<tr><td>XGBoost_grid__1_AutoML_20201121_175520_model_1     </td><td style=\"text-align: right;\">0.931752</td><td style=\"text-align: right;\"> 0.204921</td><td style=\"text-align: right;\">0.607461</td><td style=\"text-align: right;\">              0.16005 </td><td style=\"text-align: right;\">0.253856</td><td style=\"text-align: right;\">0.0644429</td></tr>\n",
       "<tr><td>GBM_grid__1_AutoML_20201121_175520_model_2         </td><td style=\"text-align: right;\">0.931561</td><td style=\"text-align: right;\"> 0.209657</td><td style=\"text-align: right;\">0.612522</td><td style=\"text-align: right;\">              0.16893 </td><td style=\"text-align: right;\">0.257397</td><td style=\"text-align: right;\">0.0662534</td></tr>\n",
       "<tr><td>XGBoost_grid__1_AutoML_20201121_175520_model_5     </td><td style=\"text-align: right;\">0.931091</td><td style=\"text-align: right;\"> 0.205111</td><td style=\"text-align: right;\">0.615071</td><td style=\"text-align: right;\">              0.167683</td><td style=\"text-align: right;\">0.252106</td><td style=\"text-align: right;\">0.0635574</td></tr>\n",
       "<tr><td>GBM_2_AutoML_20201121_175520                       </td><td style=\"text-align: right;\">0.928748</td><td style=\"text-align: right;\"> 0.226669</td><td style=\"text-align: right;\">0.601725</td><td style=\"text-align: right;\">              0.164261</td><td style=\"text-align: right;\">0.267424</td><td style=\"text-align: right;\">0.0715155</td></tr>\n",
       "<tr><td>XGBoost_grid__1_AutoML_20201121_175520_model_4     </td><td style=\"text-align: right;\">0.928746</td><td style=\"text-align: right;\"> 0.215791</td><td style=\"text-align: right;\">0.59357 </td><td style=\"text-align: right;\">              0.171507</td><td style=\"text-align: right;\">0.259813</td><td style=\"text-align: right;\">0.0675026</td></tr>\n",
       "<tr><td>GBM_5_AutoML_20201121_175520                       </td><td style=\"text-align: right;\">0.928223</td><td style=\"text-align: right;\"> 0.240794</td><td style=\"text-align: right;\">0.58807 </td><td style=\"text-align: right;\">              0.165032</td><td style=\"text-align: right;\">0.275846</td><td style=\"text-align: right;\">0.0760907</td></tr>\n",
       "<tr><td>XGBoost_2_AutoML_20201121_175520                   </td><td style=\"text-align: right;\">0.92779 </td><td style=\"text-align: right;\"> 0.209732</td><td style=\"text-align: right;\">0.599251</td><td style=\"text-align: right;\">              0.178686</td><td style=\"text-align: right;\">0.254828</td><td style=\"text-align: right;\">0.0649373</td></tr>\n",
       "<tr><td>StackedEnsemble_BestOfFamily_AutoML_20201121_175520</td><td style=\"text-align: right;\">0.927671</td><td style=\"text-align: right;\"> 0.21659 </td><td style=\"text-align: right;\">0.616828</td><td style=\"text-align: right;\">              0.172088</td><td style=\"text-align: right;\">0.255593</td><td style=\"text-align: right;\">0.0653277</td></tr>\n",
       "<tr><td>XGBoost_grid__1_AutoML_20201121_175520_model_3     </td><td style=\"text-align: right;\">0.926738</td><td style=\"text-align: right;\"> 0.215224</td><td style=\"text-align: right;\">0.590425</td><td style=\"text-align: right;\">              0.182242</td><td style=\"text-align: right;\">0.259969</td><td style=\"text-align: right;\">0.0675838</td></tr>\n",
       "<tr><td>GBM_3_AutoML_20201121_175520                       </td><td style=\"text-align: right;\">0.926475</td><td style=\"text-align: right;\"> 0.231317</td><td style=\"text-align: right;\">0.586782</td><td style=\"text-align: right;\">              0.170509</td><td style=\"text-align: right;\">0.270529</td><td style=\"text-align: right;\">0.0731859</td></tr>\n",
       "<tr><td>XGBoost_1_AutoML_20201121_175520                   </td><td style=\"text-align: right;\">0.924266</td><td style=\"text-align: right;\"> 0.21934 </td><td style=\"text-align: right;\">0.587823</td><td style=\"text-align: right;\">              0.170298</td><td style=\"text-align: right;\">0.257235</td><td style=\"text-align: right;\">0.06617  </td></tr>\n",
       "<tr><td>GBM_4_AutoML_20201121_175520                       </td><td style=\"text-align: right;\">0.923508</td><td style=\"text-align: right;\"> 0.246773</td><td style=\"text-align: right;\">0.582431</td><td style=\"text-align: right;\">              0.16627 </td><td style=\"text-align: right;\">0.279186</td><td style=\"text-align: right;\">0.0779448</td></tr>\n",
       "<tr><td>GBM_grid__1_AutoML_20201121_175520_model_3         </td><td style=\"text-align: right;\">0.921253</td><td style=\"text-align: right;\"> 0.247643</td><td style=\"text-align: right;\">0.564746</td><td style=\"text-align: right;\">              0.170605</td><td style=\"text-align: right;\">0.278326</td><td style=\"text-align: right;\">0.0774655</td></tr>\n",
       "<tr><td>GBM_1_AutoML_20201121_175520                       </td><td style=\"text-align: right;\">0.91803 </td><td style=\"text-align: right;\"> 0.244622</td><td style=\"text-align: right;\">0.558011</td><td style=\"text-align: right;\">              0.17583 </td><td style=\"text-align: right;\">0.276395</td><td style=\"text-align: right;\">0.076394 </td></tr>\n",
       "<tr><td>GLM_1_AutoML_20201121_175520                       </td><td style=\"text-align: right;\">0.906965</td><td style=\"text-align: right;\"> 0.240431</td><td style=\"text-align: right;\">0.554085</td><td style=\"text-align: right;\">              0.204054</td><td style=\"text-align: right;\">0.267233</td><td style=\"text-align: right;\">0.0714133</td></tr>\n",
       "<tr><td>XRT_1_AutoML_20201121_175520                       </td><td style=\"text-align: right;\">0.90371 </td><td style=\"text-align: right;\"> 0.343354</td><td style=\"text-align: right;\">0.542172</td><td style=\"text-align: right;\">              0.191474</td><td style=\"text-align: right;\">0.287225</td><td style=\"text-align: right;\">0.0824981</td></tr>\n",
       "<tr><td>DRF_1_AutoML_20201121_175520                       </td><td style=\"text-align: right;\">0.888786</td><td style=\"text-align: right;\"> 0.625841</td><td style=\"text-align: right;\">0.537439</td><td style=\"text-align: right;\">              0.19536 </td><td style=\"text-align: right;\">0.289277</td><td style=\"text-align: right;\">0.0836814</td></tr>\n",
       "<tr><td>DeepLearning_grid__1_AutoML_20201121_175520_model_2</td><td style=\"text-align: right;\">0.885201</td><td style=\"text-align: right;\"> 0.443631</td><td style=\"text-align: right;\">0.497975</td><td style=\"text-align: right;\">              0.242997</td><td style=\"text-align: right;\">0.368054</td><td style=\"text-align: right;\">0.135463 </td></tr>\n",
       "<tr><td>DeepLearning_grid__1_AutoML_20201121_175520_model_1</td><td style=\"text-align: right;\">0.885101</td><td style=\"text-align: right;\"> 0.257708</td><td style=\"text-align: right;\">0.518985</td><td style=\"text-align: right;\">              0.226847</td><td style=\"text-align: right;\">0.276928</td><td style=\"text-align: right;\">0.0766894</td></tr>\n",
       "<tr><td>DeepLearning_grid__2_AutoML_20201121_175520_model_1</td><td style=\"text-align: right;\">0.884194</td><td style=\"text-align: right;\"> 0.257856</td><td style=\"text-align: right;\">0.50389 </td><td style=\"text-align: right;\">              0.225553</td><td style=\"text-align: right;\">0.27523 </td><td style=\"text-align: right;\">0.0757514</td></tr>\n",
       "<tr><td>DeepLearning_grid__2_AutoML_20201121_175520_model_2</td><td style=\"text-align: right;\">0.868407</td><td style=\"text-align: right;\"> 0.410936</td><td style=\"text-align: right;\">0.465999</td><td style=\"text-align: right;\">              0.246663</td><td style=\"text-align: right;\">0.356866</td><td style=\"text-align: right;\">0.127353 </td></tr>\n",
       "<tr><td>DeepLearning_1_AutoML_20201121_175520              </td><td style=\"text-align: right;\">0.866787</td><td style=\"text-align: right;\"> 0.33057 </td><td style=\"text-align: right;\">0.471989</td><td style=\"text-align: right;\">              0.230757</td><td style=\"text-align: right;\">0.288943</td><td style=\"text-align: right;\">0.0834882</td></tr>\n",
       "<tr><td>DeepLearning_grid__3_AutoML_20201121_175520_model_1</td><td style=\"text-align: right;\">0.846808</td><td style=\"text-align: right;\"> 0.313679</td><td style=\"text-align: right;\">0.455346</td><td style=\"text-align: right;\">              0.268723</td><td style=\"text-align: right;\">0.291915</td><td style=\"text-align: right;\">0.0852142</td></tr>\n",
       "<tr><td>XGBoost_grid__1_AutoML_20201121_175520_model_6     </td><td style=\"text-align: right;\">0.81015 </td><td style=\"text-align: right;\"> 0.51498 </td><td style=\"text-align: right;\">0.498417</td><td style=\"text-align: right;\">              0.230124</td><td style=\"text-align: right;\">0.40352 </td><td style=\"text-align: right;\">0.162828 </td></tr>\n",
       "</tbody>\n",
       "</table>"
      ]
     },
     "metadata": {},
     "output_type": "display_data"
    },
    {
     "data": {
      "text/plain": []
     },
     "execution_count": 23,
     "metadata": {},
     "output_type": "execute_result"
    }
   ],
   "source": [
    "lb = aml.leaderboard\n",
    "lb.head(rows=lb.nrows)"
   ]
  },
  {
   "cell_type": "code",
   "execution_count": 31,
   "metadata": {},
   "outputs": [
    {
     "ename": "AttributeError",
     "evalue": "type object 'ModelBase' has no attribute 'metalearner'",
     "output_type": "error",
     "traceback": [
      "\u001b[0;31m---------------------------------------------------------------------------\u001b[0m",
      "\u001b[0;31mAttributeError\u001b[0m                            Traceback (most recent call last)",
      "\u001b[0;32m<ipython-input-31-bf2fe4857ba8>\u001b[0m in \u001b[0;36m<module>\u001b[0;34m\u001b[0m\n\u001b[1;32m      1\u001b[0m \u001b[0mse\u001b[0m \u001b[0;34m=\u001b[0m \u001b[0maml\u001b[0m\u001b[0;34m.\u001b[0m\u001b[0mleader\u001b[0m\u001b[0;34m\u001b[0m\u001b[0;34m\u001b[0m\u001b[0m\n\u001b[0;32m----> 2\u001b[0;31m \u001b[0mmetalearner\u001b[0m \u001b[0;34m=\u001b[0m \u001b[0mh2o\u001b[0m\u001b[0;34m.\u001b[0m\u001b[0mget_model\u001b[0m\u001b[0;34m(\u001b[0m\u001b[0mse\u001b[0m\u001b[0;34m.\u001b[0m\u001b[0mmetalearner\u001b[0m\u001b[0;34m(\u001b[0m\u001b[0;34m)\u001b[0m\u001b[0;34m[\u001b[0m\u001b[0;34m'name'\u001b[0m\u001b[0;34m]\u001b[0m\u001b[0;34m)\u001b[0m\u001b[0;34m\u001b[0m\u001b[0;34m\u001b[0m\u001b[0m\n\u001b[0m",
      "\u001b[0;32m~/.local/lib/python3.6/site-packages/h2o/utils/metaclass.py\u001b[0m in \u001b[0;36m__getattr__\u001b[0;34m(self, name)\u001b[0m\n\u001b[1;32m    191\u001b[0m             \u001b[0;32mif\u001b[0m \u001b[0mname\u001b[0m \u001b[0;32min\u001b[0m \u001b[0mself\u001b[0m\u001b[0;34m.\u001b[0m\u001b[0m_bci\u001b[0m\u001b[0;34m:\u001b[0m\u001b[0;34m\u001b[0m\u001b[0;34m\u001b[0m\u001b[0m\n\u001b[1;32m    192\u001b[0m                 \u001b[0;32mreturn\u001b[0m \u001b[0mself\u001b[0m\u001b[0;34m.\u001b[0m\u001b[0m_bci\u001b[0m\u001b[0;34m[\u001b[0m\u001b[0mname\u001b[0m\u001b[0;34m]\u001b[0m\u001b[0;34m\u001b[0m\u001b[0;34m\u001b[0m\u001b[0m\n\u001b[0;32m--> 193\u001b[0;31m             \u001b[0;32mreturn\u001b[0m \u001b[0mgetattr\u001b[0m\u001b[0;34m(\u001b[0m\u001b[0mnew_clz\u001b[0m\u001b[0;34m,\u001b[0m \u001b[0mname\u001b[0m\u001b[0;34m)\u001b[0m\u001b[0;34m\u001b[0m\u001b[0;34m\u001b[0m\u001b[0m\n\u001b[0m\u001b[1;32m    194\u001b[0m \u001b[0;34m\u001b[0m\u001b[0m\n\u001b[1;32m    195\u001b[0m         \u001b[0mnew_clz\u001b[0m \u001b[0;34m=\u001b[0m \u001b[0mextend_and_replace\u001b[0m\u001b[0;34m(\u001b[0m\u001b[0mclz\u001b[0m\u001b[0;34m,\u001b[0m \u001b[0m__init__\u001b[0m\u001b[0;34m=\u001b[0m\u001b[0m__init__\u001b[0m\u001b[0;34m,\u001b[0m \u001b[0m__getattr__\u001b[0m\u001b[0;34m=\u001b[0m\u001b[0m__getattr__\u001b[0m\u001b[0;34m)\u001b[0m\u001b[0;34m\u001b[0m\u001b[0;34m\u001b[0m\u001b[0m\n",
      "\u001b[0;32m~/.local/lib/python3.6/site-packages/h2o/utils/metaclass.py\u001b[0m in \u001b[0;36m__getattribute__\u001b[0;34m(cls, name)\u001b[0m\n\u001b[1;32m    233\u001b[0m             \u001b[0;32mif\u001b[0m \u001b[0mattr\u001b[0m \u001b[0;32mis\u001b[0m \u001b[0;32mnot\u001b[0m \u001b[0mMetaFeature\u001b[0m\u001b[0;34m.\u001b[0m\u001b[0mNOT_FOUND\u001b[0m\u001b[0;34m:\u001b[0m\u001b[0;34m\u001b[0m\u001b[0;34m\u001b[0m\u001b[0m\n\u001b[1;32m    234\u001b[0m                 \u001b[0;32mreturn\u001b[0m \u001b[0mattr\u001b[0m\u001b[0;34m\u001b[0m\u001b[0;34m\u001b[0m\u001b[0m\n\u001b[0;32m--> 235\u001b[0;31m         \u001b[0;32mreturn\u001b[0m \u001b[0mtype\u001b[0m\u001b[0;34m.\u001b[0m\u001b[0m__getattribute__\u001b[0m\u001b[0;34m(\u001b[0m\u001b[0mcls\u001b[0m\u001b[0;34m,\u001b[0m \u001b[0mname\u001b[0m\u001b[0;34m)\u001b[0m\u001b[0;34m\u001b[0m\u001b[0;34m\u001b[0m\u001b[0m\n\u001b[0m\u001b[1;32m    236\u001b[0m \u001b[0;34m\u001b[0m\u001b[0m\n\u001b[1;32m    237\u001b[0m     \u001b[0;32mdef\u001b[0m \u001b[0m__setattr__\u001b[0m\u001b[0;34m(\u001b[0m\u001b[0mcls\u001b[0m\u001b[0;34m,\u001b[0m \u001b[0mname\u001b[0m\u001b[0;34m,\u001b[0m \u001b[0mvalue\u001b[0m\u001b[0;34m)\u001b[0m\u001b[0;34m:\u001b[0m\u001b[0;34m\u001b[0m\u001b[0;34m\u001b[0m\u001b[0m\n",
      "\u001b[0;31mAttributeError\u001b[0m: type object 'ModelBase' has no attribute 'metalearner'"
     ]
    }
   ],
   "source": [
    "se = aml.leader\n",
    "metalearner = h2o.get_model(se.metalearner()['name'])"
   ]
  },
  {
   "cell_type": "code",
   "execution_count": 27,
   "metadata": {},
   "outputs": [
    {
     "ename": "NameError",
     "evalue": "name 'metalearner' is not defined",
     "output_type": "error",
     "traceback": [
      "\u001b[0;31m---------------------------------------------------------------------------\u001b[0m",
      "\u001b[0;31mNameError\u001b[0m                                 Traceback (most recent call last)",
      "\u001b[0;32m<ipython-input-27-bb19a1728883>\u001b[0m in \u001b[0;36m<module>\u001b[0;34m\u001b[0m\n\u001b[0;32m----> 1\u001b[0;31m \u001b[0mmetalearner\u001b[0m\u001b[0;34m.\u001b[0m\u001b[0mvarimp\u001b[0m\u001b[0;34m(\u001b[0m\u001b[0;34m)\u001b[0m\u001b[0;34m\u001b[0m\u001b[0;34m\u001b[0m\u001b[0m\n\u001b[0m",
      "\u001b[0;31mNameError\u001b[0m: name 'metalearner' is not defined"
     ]
    }
   ],
   "source": [
    "metalearner.varimp()"
   ]
  },
  {
   "cell_type": "code",
   "execution_count": null,
   "metadata": {},
   "outputs": [],
   "source": []
  },
  {
   "cell_type": "markdown",
   "metadata": {},
   "source": [
    " "
   ]
  },
  {
   "cell_type": "markdown",
   "metadata": {},
   "source": [
    "### Task 7: Base Learner XGBoost Model Exploration"
   ]
  },
  {
   "cell_type": "code",
   "execution_count": null,
   "metadata": {},
   "outputs": [],
   "source": [
    "model = h2o.get_model('XGBoost_grid__1_AutoML_20200605_110413_model_2')"
   ]
  },
  {
   "cell_type": "code",
   "execution_count": null,
   "metadata": {},
   "outputs": [],
   "source": []
  },
  {
   "cell_type": "code",
   "execution_count": null,
   "metadata": {},
   "outputs": [],
   "source": []
  },
  {
   "cell_type": "code",
   "execution_count": null,
   "metadata": {},
   "outputs": [],
   "source": []
  },
  {
   "cell_type": "code",
   "execution_count": null,
   "metadata": {},
   "outputs": [],
   "source": []
  },
  {
   "cell_type": "code",
   "execution_count": null,
   "metadata": {},
   "outputs": [],
   "source": []
  },
  {
   "cell_type": "markdown",
   "metadata": {},
   "source": [
    " "
   ]
  }
 ],
 "metadata": {
  "kernelspec": {
   "display_name": "Python 3",
   "language": "python",
   "name": "python3"
  },
  "language_info": {
   "codemirror_mode": {
    "name": "ipython",
    "version": 3
   },
   "file_extension": ".py",
   "mimetype": "text/x-python",
   "name": "python",
   "nbconvert_exporter": "python",
   "pygments_lexer": "ipython3",
   "version": "3.6.9"
  }
 },
 "nbformat": 4,
 "nbformat_minor": 4
}
